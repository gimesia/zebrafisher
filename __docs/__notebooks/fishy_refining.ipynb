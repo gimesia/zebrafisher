{
 "cells": [
  {
   "cell_type": "markdown",
   "source": [
    "### Imports"
   ],
   "metadata": {
    "collapsed": false,
    "pycharm": {
     "name": "#%% md\n"
    }
   }
  },
  {
   "cell_type": "code",
   "execution_count": 2,
   "outputs": [],
   "source": [
    "import numpy as np\n",
    "import matplotlib.pyplot as plt\n",
    "import scipy\n",
    "import cv2 as cv\n",
    "import skimage\n",
    "\n",
    "from src.models import InputImage\n",
    "from src.fish import *\n",
    "from src.well import find_well_props\n",
    "from src.filters import sharpen_image\n",
    "\n",
    "from skimage.feature import canny\n",
    "from skimage.restoration import rolling_ball\n",
    "from skimage.filters.ridges import hessian\n",
    "from skimage.filters import frangi"
   ],
   "metadata": {
    "collapsed": false,
    "pycharm": {
     "name": "#%%\n"
    }
   }
  },
  {
   "cell_type": "markdown",
   "source": [
    "### Functions"
   ],
   "metadata": {
    "collapsed": false,
    "pycharm": {
     "name": "#%% md\n"
    }
   }
  },
  {
   "cell_type": "code",
   "execution_count": 3,
   "outputs": [],
   "source": [
    "def is_fish(img: np.ndarray) -> bool:\n",
    "    labeled = label(img)\n",
    "    reg_props = regionprops(labeled)\n",
    "    if reg_props[0].eccentricity > 0.9:  # 0.92\n",
    "        fish = True\n",
    "    else:\n",
    "        fish = False\n",
    "    return fish"
   ],
   "metadata": {
    "collapsed": false,
    "pycharm": {
     "name": "#%%\n"
    }
   }
  },
  {
   "cell_type": "code",
   "execution_count": 4,
   "outputs": [],
   "source": [
    "def get_fish_convex_mask(input_img: InputImage) -> InputImage:\n",
    "    for i in range(6):\n",
    "        input_img = sharpen_image(input_img)\n",
    "        input_img = sobel_edges(input_img)\n",
    "        input_img = yen_thresholding(input_img)\n",
    "        input_img = remove_meniscus(input_img)\n",
    "        input_img = convex_hull_for_fish(input_img)\n",
    "        if is_fish(input_img.binary):\n",
    "            return input_img\n",
    "\n",
    "    return input_img"
   ],
   "metadata": {
    "collapsed": false,
    "pycharm": {
     "name": "#%%\n"
    }
   }
  },
  {
   "cell_type": "code",
   "execution_count": null,
   "outputs": [],
   "source": [
    "def refine_fish_convex_mask(input_img: InputImage) -> InputImage:\n",
    "    bbox = input_img.fish_props.bounding_box\n",
    "    remaining = np.zeros_like(input_img.fish_props.mask.masked)\n",
    "    edges = sobel(input_img.fish_props.mask.masked[bbox.x1:bbox.x2, bbox.y1:bbox.y2])\n",
    "\n",
    "    se = disk(2)\n",
    "    x = binary_closing(binary_opening(yen_th(edges), se), se).astype(float)\n",
    "    hull = convex_hull_image(x)\n",
    "\n",
    "    remaining[bbox.x1:bbox.x2, bbox.y1:bbox.y2] = hull\n",
    "\n",
    "    input_img.binary = remaining.copy()\n",
    "    input_img.fish_props.mask.og = remaining.copy()\n",
    "    input_img.fish_props.mask.masked = remaining * input_img.well_props.mask.cropped_masked\n",
    "    input_img.fish_props.bounding_box = get_bounding_box(remaining)\n",
    "    input_img.processed = remaining * input_img.well_props.mask.cropped_masked.copy()\n",
    "\n",
    "    return input_img"
   ],
   "metadata": {
    "collapsed": false,
    "pycharm": {
     "name": "#%%\n",
     "is_executing": true
    }
   }
  },
  {
   "cell_type": "markdown",
   "source": [
    "# Refining fish mask"
   ],
   "metadata": {
    "collapsed": false,
    "pycharm": {
     "name": "#%% md\n"
    }
   }
  },
  {
   "cell_type": "code",
   "execution_count": null,
   "outputs": [],
   "source": [
    "fishy = InputImage(\"zf1.jpg\")\n",
    "fig, ax = plt.subplots(nrows=2, ncols=3, figsize=(25, 20))\n",
    "ax = ax.ravel()\n",
    "og = fishy.og.copy()\n",
    "bg = rolling_ball(og)\n",
    "og_bg = og - bg\n",
    "\n",
    "fishy = find_well_props(fishy)\n",
    "\n",
    "fishy = get_fish_convex_mask(fishy)\n",
    "fishy = refine_fish_convex_mask(fishy)\n",
    "\n",
    "ax[0].imshow(fishy.well_props.mask.cropped_masked, \"binary\")\n",
    "ax[0].set_title('Well mask')\n",
    "ax[1].imshow(fishy.fish_props.mask.masked, \"binary\")\n",
    "ax[1].set_title('Fish masked')\n",
    "ax[2].imshow(fishy.binary, \"binary\")\n",
    "ax[2].set_title('Fish mask binary')\n",
    "ax[3].imshow(bg, \"binary\")\n",
    "ax[3].set_title('Fish mask binary')\n",
    "ax[4].imshow(bg, \"binary\")\n",
    "ax[4].set_title('Fish mask binary')"
   ],
   "metadata": {
    "collapsed": false,
    "pycharm": {
     "name": "#%%\n",
     "is_executing": true
    }
   }
  },
  {
   "cell_type": "code",
   "execution_count": null,
   "outputs": [],
   "source": [
    "fig, ax = plt.subplots(nrows=1, ncols=4, figsize=(20, 8))\n",
    "\n",
    "bbox = fishy.fish_props.bounding_box\n",
    "fishy.fish_props.mask.cropped = fishy.fininsh_props.mask.og[bbox.x1:bbox.x2, bbox.y1:bbox.y2]\n",
    "fishy.fish_props.mask.cropped_masked = fishy.fish_props.mask.masked[bbox.x1:bbox.x2, bbox.y1:bbox.y2]\n",
    "\n",
    "a = yen_th(sobel(fishy.fish_props.mask.cropped_masked))\n",
    "cm = fishy.fish_props.mask.cropped_masked.copy()\n",
    "bg = rolling_ball(cm)\n",
    "eq_cm = equalize_hist(cm)\n",
    "\n",
    "ax[0].imshow(cm, 'binary')\n",
    "ax[1].imshow(bg, 'binary')\n",
    "ax[2].imshow(yen_th(canny(cm)), 'binary')"
   ],
   "metadata": {
    "collapsed": false,
    "pycharm": {
     "name": "#%%\n",
     "is_executing": true
    }
   }
  },
  {
   "cell_type": "code",
   "execution_count": null,
   "outputs": [],
   "source": [],
   "metadata": {
    "collapsed": false,
    "pycharm": {
     "name": "#%%\n",
     "is_executing": true
    }
   }
  }
 ],
 "metadata": {
  "kernelspec": {
   "display_name": "Python 3",
   "language": "python",
   "name": "python3"
  },
  "language_info": {
   "codemirror_mode": {
    "name": "ipython",
    "version": 2
   },
   "file_extension": ".py",
   "mimetype": "text/x-python",
   "name": "python",
   "nbconvert_exporter": "python",
   "pygments_lexer": "ipython2",
   "version": "2.7.6"
  }
 },
 "nbformat": 4,
 "nbformat_minor": 0
}