{
 "cells": [
  {
   "cell_type": "code",
   "execution_count": null,
   "outputs": [],
   "source": [
    "from matplotlib import pyplot as plt\n"
   ],
   "metadata": {
    "collapsed": false,
    "pycharm": {
     "name": "#%%\n"
    }
   }
  },
  {
   "cell_type": "code",
   "execution_count": null,
   "outputs": [],
   "source": [
    "from src.well.find_well_props import find_well_props\n",
    "import numpy as np\n",
    "from src.filters import normalize_0_255\n",
    "from src.models import InputImage\n",
    "\n",
    "input_img = InputImage(\"zf6.jpg\")\n",
    "input_img.processed = normalize_0_255(input_img.processed)\n",
    "input_img.processed = np.uint8(input_img.processed)\n",
    "input_img = find_well_props(input_img)"
   ],
   "metadata": {
    "collapsed": false,
    "pycharm": {
     "name": "#%%\n"
    }
   }
  },
  {
   "cell_type": "code",
   "execution_count": null,
   "outputs": [],
   "source": [
    "fig, ax = plt.subplots(nrows=2, ncols=2, figsize=(16, 16))\n",
    "ax = ax.ravel()\n",
    "\n",
    "ax[0].imshow(input_img.og, 'binary')\n",
    "ax[1].imshow(input_img.processed, 'binary')\n",
    "ax[2].imshow(input_img.well_props.mask.masked, 'binary')\n",
    "ax[3].imshow(input_img.well_props.mask.cropped_masked, 'binary')"
   ],
   "metadata": {
    "collapsed": false,
    "pycharm": {
     "name": "#%%\n"
    }
   }
  },
  {
   "cell_type": "code",
   "execution_count": null,
   "outputs": [],
   "source": [
    "from src.fish.remove_background import remove_background\n",
    "\n",
    "input_img.processed = input_img.well_props.mask.cropped_masked\n",
    "\n",
    "input_img = remove_background(input_img)\n",
    "r_bg = input_img.processed\n",
    "plt.imshow(input_img.processed, 'binary')"
   ],
   "metadata": {
    "collapsed": false,
    "pycharm": {
     "name": "#%%\n"
    }
   }
  },
  {
   "cell_type": "code",
   "execution_count": null,
   "outputs": [],
   "source": [
    "from src.filters import yen_th\n",
    "from skimage.morphology import binary_closing, disk\n",
    "from scipy.ndimage import binary_fill_holes\n",
    "\n",
    "th = yen_th(r_bg)\n",
    "\n",
    "closed = binary_closing(th, disk(3))\n",
    "filled = binary_fill_holes(closed)\n",
    "filled_masked = filled * input_img.well_props.mask.cropped\n",
    "\n",
    "fig, ax = plt.subplots(nrows=2, ncols=2, figsize=(16, 16))\n",
    "ax = ax.ravel()\n",
    "\n",
    "ax[0].imshow(th, 'binary')\n",
    "ax[1].imshow(closed, 'binary')\n",
    "ax[2].imshow(filled, 'binary')\n",
    "ax[3].imshow(filled_masked, 'binary')\n",
    "\n",
    "input_img.processed = filled_masked"
   ],
   "metadata": {
    "collapsed": false,
    "pycharm": {
     "name": "#%%\n"
    }
   }
  },
  {
   "cell_type": "code",
   "execution_count": null,
   "outputs": [],
   "source": [
    "from src.fish.is_fish import is_fish\n",
    "from src.fish.find_fish_props import refine_oversized_hull\n",
    "from src.utils import keep_largest_object\n",
    "from skimage.morphology import convex_hull_image, binary_dilation\n",
    "\n",
    "fig, ax = plt.subplots(nrows=2, ncols=2, figsize=(16, 16))\n",
    "ax = ax.ravel()\n",
    "\n",
    "klo = keep_largest_object(filled_masked)\n",
    "fish_mask = convex_hull_image(klo).astype(float)\n",
    "\n",
    "input_img.fish_props.mask.og = fish_mask\n",
    "\n",
    "for i in range(6):\n",
    "    if is_fish(input_img.fish_props.mask.og):\n",
    "        break\n",
    "    input_img = refine_oversized_hull(input_img, step=i + 1)\n",
    "\n",
    "dilated_mask = binary_dilation(input_img.fish_props.mask.og, disk(20))\n",
    "input_img.fish_props.mask.masked = dilated_mask * input_img.well_props.mask.cropped_masked\n",
    "dilated_masked = input_img.fish_props.mask.masked\n",
    "\n",
    "ax[0].imshow(klo, 'binary')\n",
    "ax[1].imshow(fish_mask, 'binary')\n",
    "ax[2].imshow(input_img.fish_props.mask.og, 'binary')\n",
    "ax[3].imshow(dilated_masked, 'binary')"
   ],
   "metadata": {
    "collapsed": false,
    "pycharm": {
     "name": "#%%\n"
    }
   }
  },
  {
   "cell_type": "markdown",
   "source": [
    "__________________________________________________________________\n",
    "# Refine"
   ],
   "metadata": {
    "collapsed": false,
    "pycharm": {
     "name": "#%% md\n"
    }
   }
  },
  {
   "cell_type": "code",
   "execution_count": null,
   "outputs": [],
   "source": [
    "from src.utils import get_bounding_box_obj\n",
    "from skimage.morphology import binary_erosion, remove_small_objects\n",
    "from src.filters import sobel\n",
    "from skimage.filters._unsharp_mask import unsharp_mask\n",
    "\n",
    "fig, ax = plt.subplots(nrows=2, ncols=2, figsize=(16, 16))\n",
    "ax = ax.ravel()\n",
    "\n",
    "um = unsharp_mask(dilated_masked, amount=20, radius=3)\n",
    "sobel = sobel(um)\n",
    "\n",
    "eroded_mask = binary_erosion(input_img.fish_props.mask.og, disk(5))\n",
    "\n",
    "refined = remove_small_objects(yen_th(sobel))\n",
    "\n",
    "ax[0].imshow(dilated_masked, 'binary')\n",
    "ax[1].imshow(um, 'binary')\n",
    "ax[2].imshow(sobel, 'binary')\n",
    "ax[3].imshow(refined, 'binary')"
   ],
   "metadata": {
    "collapsed": false,
    "pycharm": {
     "name": "#%%\n"
    }
   }
  },
  {
   "cell_type": "code",
   "execution_count": null,
   "outputs": [],
   "source": [
    "from skimage.morphology import binary_opening\n",
    "from skimage.color import gray2rgb\n",
    "import cv2\n",
    "\n",
    "fig, ax = plt.subplots(nrows=2, ncols=1, figsize=(16, 16))\n",
    "ax = ax.ravel()\n",
    "\n",
    "from skimage.measure import find_contours\n",
    "\n",
    "ref = input_img.fish_props.mask.og.copy()\n",
    "\n",
    "refffe = binary_fill_holes(binary_closing(refined * binary_erosion(dilated_mask, disk(10)), disk(5)))\n",
    "fishy = refffe * input_img.well_props.mask.cropped_masked\n",
    "\n",
    "ax[0].imshow(fishy, 'binary')\n",
    "\n",
    "fishy = remove_small_objects(binary_opening(refffe, disk(5))) * input_img.well_props.mask.cropped_masked\n",
    "ax[1].imshow(fishy, 'binary')"
   ],
   "metadata": {
    "collapsed": false,
    "pycharm": {
     "name": "#%%\n"
    }
   }
  },
  {
   "cell_type": "code",
   "execution_count": null,
   "outputs": [],
   "source": [
    "from skimage.color import label2rgb\n",
    "from skimage.measure import label, regionprops_table\n",
    "\n",
    "#labeled = label(input_img.fish_props.mask.og * binary_closing(fishy, disk(5)))\n",
    "labeled = label(fishy.astype(bool))\n",
    "props = regionprops_table(labeled, properties=('label', 'bbox', 'area'))\n",
    "\n",
    "fig, ax = plt.subplots(nrows=2, ncols=2, figsize=(16, 16))\n",
    "ax = ax.ravel()\n",
    "\n",
    "largest_label = keep_largest_object(labeled)\n",
    "hull = convex_hull_image(keep_largest_object(labeled))\n",
    "hull = binary_dilation(hull, disk(5))\n",
    "\n",
    "ax[0].imshow(label2rgb(labeled))\n",
    "ax[1].imshow(largest_label, 'binary')\n",
    "ax[2].imshow(hull, 'binary')\n",
    "ax[3].imshow(largest_label * input_img.well_props.mask.cropped_masked, 'binary')"
   ],
   "metadata": {
    "collapsed": false,
    "pycharm": {
     "name": "#%%\n"
    }
   }
  },
  {
   "cell_type": "code",
   "execution_count": null,
   "outputs": [],
   "source": [
    "contour = find_contours(largest_label)\n",
    "\n",
    "plt.imshow(input_img.well_props.mask.cropped_masked, 'binary')\n",
    "for cont in contour:\n",
    "    plt.plot(cont[:, 1], cont[:, 0], linewidth=2, color='red')"
   ],
   "metadata": {
    "collapsed": false,
    "pycharm": {
     "name": "#%%\n"
    }
   }
  }
 ],
 "metadata": {
  "kernelspec": {
   "display_name": "Python 3",
   "language": "python",
   "name": "python3"
  },
  "language_info": {
   "codemirror_mode": {
    "name": "ipython",
    "version": 2
   },
   "file_extension": ".py",
   "mimetype": "text/x-python",
   "name": "python",
   "nbconvert_exporter": "python",
   "pygments_lexer": "ipython2",
   "version": "2.7.6"
  }
 },
 "nbformat": 4,
 "nbformat_minor": 0
}