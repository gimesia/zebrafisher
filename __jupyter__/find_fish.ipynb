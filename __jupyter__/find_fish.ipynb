{
 "cells": [
  {
   "cell_type": "code",
   "execution_count": 1,
   "outputs": [],
   "source": [
    "import numpy as np\n",
    "from matplotlib import pyplot as plt\n",
    "from scipy.ndimage import binary_fill_holes\n",
    "from skimage._shared.filters import gaussian\n",
    "from skimage.color import label2rgb\n",
    "from skimage.exposure import equalize_adapthist\n",
    "from skimage.exposure import rescale_intensity\n",
    "from skimage.filters import unsharp_mask\n",
    "from skimage.measure import find_contours\n",
    "from skimage.measure import label, regionprops_table\n",
    "from skimage.morphology import binary_closing, disk\n",
    "from skimage.morphology import binary_opening, binary_erosion, remove_small_objects, convex_hull_image, binary_dilation\n",
    "\n",
    "from src.filters import sobel, yen_th, normalize_0_255\n",
    "from src.fish.find_fish_props import refine_oversized_hull\n",
    "from src.fish.is_fish import is_fish\n",
    "from src.fish.remove_background import remove_bg\n",
    "from src.fish.well_meniscus import get_menisc\n",
    "from src.models import InputImage\n",
    "from src.utils import keep_largest_object\n",
    "from src.well.find_well_props import find_well_props"
   ],
   "metadata": {
    "collapsed": false,
    "pycharm": {
     "name": "#%%\n"
    }
   }
  },
  {
   "cell_type": "markdown",
   "source": [
    "# Init input image & find well"
   ],
   "metadata": {
    "collapsed": false,
    "pycharm": {
     "name": "#%% md\n"
    }
   }
  },
  {
   "cell_type": "code",
   "execution_count": 8,
   "outputs": [
    {
     "name": "stdout",
     "output_type": "stream",
     "text": [
      "uint8\n"
     ]
    },
    {
     "ename": "error",
     "evalue": "OpenCV(4.5.5) :-1: error: (-5:Bad argument) in function 'normalize'\n> Overload resolution failed:\n>  - Argument 'dtype' is required to be an integer\n>  - Argument 'dtype' is required to be an integer\n",
     "output_type": "error",
     "traceback": [
      "\u001B[1;31m---------------------------------------------------------------------------\u001B[0m",
      "\u001B[1;31merror\u001B[0m                                     Traceback (most recent call last)",
      "Input \u001B[1;32mIn [8]\u001B[0m, in \u001B[0;36m<module>\u001B[1;34m\u001B[0m\n\u001B[0;32m      1\u001B[0m input_img \u001B[38;5;241m=\u001B[39m InputImage(\u001B[38;5;124m\"\u001B[39m\u001B[38;5;124mzf3.jpg\u001B[39m\u001B[38;5;124m\"\u001B[39m)\n\u001B[0;32m      2\u001B[0m \u001B[38;5;28mprint\u001B[39m(input_img\u001B[38;5;241m.\u001B[39mprocessed\u001B[38;5;241m.\u001B[39mdtype)\n\u001B[1;32m----> 3\u001B[0m input_img\u001B[38;5;241m.\u001B[39mprocessed \u001B[38;5;241m=\u001B[39m \u001B[43mnormalize_0_255\u001B[49m\u001B[43m(\u001B[49m\u001B[43minput_img\u001B[49m\u001B[38;5;241;43m.\u001B[39;49m\u001B[43mprocessed\u001B[49m\u001B[43m)\u001B[49m\n\u001B[0;32m      5\u001B[0m input_img\u001B[38;5;241m.\u001B[39mprocessed \u001B[38;5;241m=\u001B[39m np\u001B[38;5;241m.\u001B[39muint8(input_img\u001B[38;5;241m.\u001B[39mprocessed)\n\u001B[0;32m      6\u001B[0m input_img \u001B[38;5;241m=\u001B[39m find_well_props(input_img)\n",
      "File \u001B[1;32m~\\source\\repos\\zebra_fishy\\src\\filters\\normalize.py:22\u001B[0m, in \u001B[0;36mnormalize_0_255\u001B[1;34m(img)\u001B[0m\n\u001B[0;32m     15\u001B[0m \u001B[38;5;28;01mdef\u001B[39;00m \u001B[38;5;21mnormalize_0_255\u001B[39m(img: np\u001B[38;5;241m.\u001B[39mndarray) \u001B[38;5;241m-\u001B[39m\u001B[38;5;241m>\u001B[39m np\u001B[38;5;241m.\u001B[39mndarray:\n\u001B[0;32m     16\u001B[0m     \u001B[38;5;124;03m\"\"\"\u001B[39;00m\n\u001B[0;32m     17\u001B[0m \u001B[38;5;124;03m    Normalizes given image between 0 - 255\u001B[39;00m\n\u001B[0;32m     18\u001B[0m \n\u001B[0;32m     19\u001B[0m \u001B[38;5;124;03m    :param img: input image\u001B[39;00m\n\u001B[0;32m     20\u001B[0m \u001B[38;5;124;03m    :return: normalized image\u001B[39;00m\n\u001B[0;32m     21\u001B[0m \u001B[38;5;124;03m    \"\"\"\u001B[39;00m\n\u001B[1;32m---> 22\u001B[0m     \u001B[38;5;28;01mreturn\u001B[39;00m \u001B[43mnormalize\u001B[49m\u001B[43m(\u001B[49m\u001B[43msrc\u001B[49m\u001B[38;5;241;43m=\u001B[39;49m\u001B[43mimg\u001B[49m\u001B[43m,\u001B[49m\u001B[43m \u001B[49m\u001B[43mdst\u001B[49m\u001B[38;5;241;43m=\u001B[39;49m\u001B[38;5;28;43;01mNone\u001B[39;49;00m\u001B[43m,\u001B[49m\u001B[43m \u001B[49m\u001B[43malpha\u001B[49m\u001B[38;5;241;43m=\u001B[39;49m\u001B[38;5;241;43m0\u001B[39;49m\u001B[43m,\u001B[49m\u001B[43m \u001B[49m\u001B[43mbeta\u001B[49m\u001B[38;5;241;43m=\u001B[39;49m\u001B[38;5;241;43m255\u001B[39;49m\u001B[43m,\u001B[49m\u001B[43m \u001B[49m\u001B[43mnorm_type\u001B[49m\u001B[38;5;241;43m=\u001B[39;49m\u001B[43mNORM_MINMAX\u001B[49m\u001B[43m,\u001B[49m\u001B[43m \u001B[49m\u001B[43mdtype\u001B[49m\u001B[38;5;241;43m=\u001B[39;49m\u001B[43mnp\u001B[49m\u001B[38;5;241;43m.\u001B[39;49m\u001B[43muint8\u001B[49m\u001B[43m)\u001B[49m\n",
      "\u001B[1;31merror\u001B[0m: OpenCV(4.5.5) :-1: error: (-5:Bad argument) in function 'normalize'\n> Overload resolution failed:\n>  - Argument 'dtype' is required to be an integer\n>  - Argument 'dtype' is required to be an integer\n"
     ]
    }
   ],
   "source": [
    "input_img = InputImage(\"zf3.jpg\")\n",
    "print(input_img.processed.dtype)\n",
    "input_img.processed = normalize_0_255(input_img.processed)\n",
    "\n",
    "input_img.processed = np.uint8(input_img.processed)\n",
    "input_img = find_well_props(input_img)"
   ],
   "metadata": {
    "collapsed": false,
    "pycharm": {
     "name": "#%%\n"
    }
   }
  },
  {
   "cell_type": "code",
   "execution_count": null,
   "outputs": [],
   "source": [
    "fig, ax = plt.subplots(nrows=2, ncols=2, figsize=(16, 16))\n",
    "ax = ax.ravel()\n",
    "\n",
    "ax[0].imshow(input_img.og, 'binary')\n",
    "ax[1].imshow(input_img.processed, 'binary')\n",
    "ax[2].imshow(input_img.well_props.mask.masked, 'binary')\n",
    "ax[3].imshow(input_img.well_props.mask.cropped_masked, 'binary')"
   ],
   "metadata": {
    "collapsed": false,
    "pycharm": {
     "name": "#%%\n"
    }
   }
  },
  {
   "cell_type": "markdown",
   "source": [
    "______________________________________________________________________\n",
    "### (Remove background)"
   ],
   "metadata": {
    "collapsed": false,
    "pycharm": {
     "name": "#%% md\n"
    }
   }
  },
  {
   "cell_type": "code",
   "execution_count": null,
   "outputs": [],
   "source": [
    "\"\"\"ri = equalize_adapthist(input_img.well_props.mask.cropped_masked)\n",
    "r_bg = remove_bg(ri, inverted=False)\n",
    "r_bg_i = remove_bg(ri, inverted=True)\n",
    "\n",
    "fig, ax = plt.subplots(nrows=2, ncols=2, figsize=(16, 16))\n",
    "ax = ax.ravel()\n",
    "ax[0].imshow(input_img.well_props.mask.cropped_masked, 'binary')\n",
    "ax[1].imshow(ri, 'binary')\n",
    "ax[2].imshow(equalize_adapthist(r_bg), 'binary')\n",
    "ax[3].imshow(r_bg_i, 'binary')\"\"\""
   ],
   "metadata": {
    "collapsed": false,
    "pycharm": {
     "name": "#%%\n"
    }
   }
  },
  {
   "cell_type": "markdown",
   "source": [
    "___________________________________________________________________"
   ],
   "metadata": {
    "collapsed": false,
    "pycharm": {
     "name": "#%% md\n"
    }
   }
  },
  {
   "cell_type": "markdown",
   "source": [
    "# Unsharp masking and sobel kernel for edge detection"
   ],
   "metadata": {
    "collapsed": false,
    "pycharm": {
     "name": "#%% md\n"
    }
   }
  },
  {
   "cell_type": "code",
   "execution_count": null,
   "outputs": [],
   "source": [
    "print(type(input_img.processed))\n",
    "print(input_img.processed.dtype)\n",
    "print(input_img.processed.shape)\n",
    "\n",
    "input_img.processed = input_img.well_props.mask.cropped_masked\n",
    "\n",
    "gauss = gaussian(input_img.processed, 1)\n",
    "\n",
    "sob = sobel(input_img.processed)  # (input_img.processed)\n",
    "\n",
    "eq_ = equalize_adapthist(gauss)\n",
    "um_ = unsharp_mask(eq_, amount=20, radius=3)\n",
    "new_sob = sobel(um_)\n",
    "\n",
    "fig, ax = plt.subplots(nrows=2, ncols=2, figsize=(16, 16))\n",
    "ax = ax.ravel()\n",
    "\n",
    "print(um_.dtype)\n",
    "\n",
    "ax[0].imshow(eq_, 'binary')\n",
    "ax[1].imshow(um_, 'binary')\n",
    "ax[2].imshow(sob, 'binary')\n",
    "ax[3].imshow(new_sob, 'binary')"
   ],
   "metadata": {
    "collapsed": false,
    "pycharm": {
     "name": "#%%\n"
    }
   }
  },
  {
   "cell_type": "code",
   "execution_count": null,
   "outputs": [],
   "source": [
    "# try_all_threshold(new_sob, figsize=(16, 16), verbose=False)"
   ],
   "metadata": {
    "collapsed": false,
    "pycharm": {
     "name": "#%%\n"
    }
   }
  },
  {
   "cell_type": "markdown",
   "source": [
    "# Yen thresholding and binary morphological manipulations"
   ],
   "metadata": {
    "collapsed": false,
    "pycharm": {
     "name": "#%% md\n"
    }
   }
  },
  {
   "cell_type": "code",
   "execution_count": null,
   "outputs": [],
   "source": [
    "th = yen_th(new_sob)\n",
    "th = binary_fill_holes(th)\n",
    "\n",
    "op = remove_small_objects(th)\n",
    "dil = binary_dilation(remove_small_objects(op), disk(10))\n",
    "closed = binary_closing(dil, disk(1))\n",
    "\n",
    "filled = binary_fill_holes(closed)\n",
    "filled_masked = filled * input_img.well_props.mask.cropped\n",
    "\n",
    "input_img.processed = filled_masked\n",
    "\n",
    "fig, ax = plt.subplots(nrows=2, ncols=2, figsize=(16, 16))\n",
    "ax = ax.ravel()\n",
    "ax[0].imshow(th, 'binary')\n",
    "ax[1].imshow(op, 'binary')\n",
    "ax[2].imshow(dil, 'binary')\n",
    "ax[3].imshow(filled_masked, 'binary')"
   ],
   "metadata": {
    "collapsed": false,
    "pycharm": {
     "name": "#%%\n"
    }
   }
  },
  {
   "cell_type": "markdown",
   "source": [
    "______________________________________________________________________\n",
    "### (Remove meniscus)\n"
   ],
   "metadata": {
    "collapsed": false,
    "pycharm": {
     "name": "#%% md\n"
    }
   }
  },
  {
   "cell_type": "code",
   "execution_count": null,
   "outputs": [],
   "source": [
    "meniscus = get_menisc(dil, input_img.well_props.mask.cropped_masked)\n",
    "res = ~meniscus * op\n",
    "\n",
    "fig, ax = plt.subplots(nrows=1, ncols=2, figsize=(16, 16))\n",
    "ax = ax.ravel()\n",
    "ax[0].imshow(res, 'binary')\n",
    "ax[1].imshow(meniscus, 'binary')"
   ],
   "metadata": {
    "collapsed": false,
    "pycharm": {
     "name": "#%%\n"
    }
   }
  },
  {
   "cell_type": "markdown",
   "source": [
    "_____________________________________________________"
   ],
   "metadata": {
    "collapsed": false,
    "pycharm": {
     "name": "#%% md\n"
    }
   }
  },
  {
   "cell_type": "markdown",
   "source": [
    "# Convex hull & covex hull refinement"
   ],
   "metadata": {
    "collapsed": false,
    "pycharm": {
     "name": "#%% md\n"
    }
   }
  },
  {
   "cell_type": "code",
   "execution_count": null,
   "outputs": [],
   "source": [
    "fig, ax = plt.subplots(nrows=2, ncols=2, figsize=(16, 16))\n",
    "ax = ax.ravel()\n",
    "\n",
    "klo = keep_largest_object(res)  #(filled_masked)\n",
    "fish_mask = convex_hull_image(klo).astype(bool)\n",
    "\n",
    "input_img.fish_props.mask.og = fish_mask\n",
    "\n",
    "for i in range(6):\n",
    "    if is_fish(input_img.fish_props.mask.og):\n",
    "        break\n",
    "    input_img = refine_oversized_hull(input_img, step=i + 1)\n",
    "\n",
    "dilated_mask = binary_dilation(input_img.fish_props.mask.og, disk(10))\n",
    "input_img.fish_props.mask.masked = dilated_mask * input_img.well_props.mask.cropped_masked\n",
    "dilated_masked = input_img.fish_props.mask.masked\n",
    "\n",
    "ax[0].imshow(klo, 'binary')\n",
    "ax[1].imshow(fish_mask, 'binary')\n",
    "ax[2].imshow(input_img.fish_props.mask.og, 'binary')\n",
    "ax[3].imshow(dilated_masked, 'binary')"
   ],
   "metadata": {
    "collapsed": false,
    "pycharm": {
     "name": "#%%\n"
    }
   }
  },
  {
   "cell_type": "markdown",
   "source": [
    "# Refine fish mask"
   ],
   "metadata": {
    "collapsed": false,
    "pycharm": {
     "name": "#%% md\n"
    }
   }
  },
  {
   "cell_type": "code",
   "execution_count": null,
   "outputs": [],
   "source": [
    "fig, ax = plt.subplots(nrows=2, ncols=2, figsize=(16, 16))\n",
    "ax = ax.ravel()\n",
    "\n",
    "um = unsharp_mask(rescale_intensity(dilated_masked), amount=20, radius=4)\n",
    "\n",
    "eroded_mask = binary_erosion(dilated_mask, disk(8))\n",
    "\n",
    "refined = remove_small_objects(yen_th(um))\n",
    "refined = ~refined * eroded_mask\n",
    "\n",
    "ax[0].imshow(dilated_masked, 'binary')\n",
    "ax[1].imshow(um, 'binary')\n",
    "ax[2].imshow(eroded_mask, 'binary')\n",
    "ax[3].imshow(binary_fill_holes(refined) * dilated_mask, 'binary')"
   ],
   "metadata": {
    "collapsed": false,
    "pycharm": {
     "name": "#%%\n"
    }
   }
  },
  {
   "cell_type": "markdown",
   "source": [],
   "metadata": {
    "collapsed": false,
    "pycharm": {
     "name": "#%% md\n"
    }
   }
  },
  {
   "cell_type": "markdown",
   "source": [
    "# Filling & eliminating small objects"
   ],
   "metadata": {
    "collapsed": false,
    "pycharm": {
     "name": "#%% md\n"
    }
   }
  },
  {
   "cell_type": "code",
   "execution_count": null,
   "outputs": [],
   "source": [
    "fig, ax = plt.subplots(nrows=2, ncols=2, figsize=(16, 16))\n",
    "ax = ax.ravel()\n",
    "\n",
    "labeled = label(binary_fill_holes(binary_dilation(refined, disk(2))))\n",
    "keeps = keep_largest_object(labeled)\n",
    "props = regionprops_table(labeled, properties=('label', 'area', 'image_filled'))\n",
    "\n",
    "opened = binary_opening(binary_fill_holes(keeps), disk(5))\n",
    "closed = binary_fill_holes(binary_closing(remove_small_objects(opened.astype(bool)), disk(3)))\n",
    "refined_ = binary_fill_holes(closed)\n",
    "\n",
    "refined__ = refined_ * input_img.well_props.mask.cropped_masked\n",
    "\n",
    "ax[0].imshow(label2rgb(labeled), 'binary')\n",
    "ax[1].imshow(opened, 'binary')\n",
    "ax[2].imshow(closed, 'binary')\n",
    "ax[3].imshow(refined__, 'binary')"
   ],
   "metadata": {
    "collapsed": false,
    "pycharm": {
     "name": "#%%\n"
    }
   }
  },
  {
   "cell_type": "markdown",
   "source": [
    "# Drawing contours of the fish mask"
   ],
   "metadata": {
    "collapsed": false,
    "pycharm": {
     "name": "#%% md\n"
    }
   }
  },
  {
   "cell_type": "code",
   "execution_count": null,
   "outputs": [],
   "source": [
    "#labeled = label(input_img.fish_props.mask.og * binary_closing(fishy, disk(5)))\n",
    "labeled = label(refined__.astype(bool))\n",
    "props = regionprops_table(labeled, properties=('label', 'bbox', 'area'))\n",
    "\n",
    "fig, ax = plt.subplots(nrows=2, ncols=2, figsize=(16, 16))\n",
    "ax = ax.ravel()\n",
    "\n",
    "largest_label = keep_largest_object(labeled)\n",
    "hull = convex_hull_image(keep_largest_object(labeled))\n",
    "hull = binary_dilation(hull, disk(5))\n",
    "\n",
    "contour = find_contours(largest_label)\n",
    "\n",
    "ax[0].imshow(label2rgb(labeled))\n",
    "ax[1].imshow(input_img.well_props.mask.cropped_masked, 'binary')\n",
    "ax[2].imshow(hull, 'binary')\n",
    "ax[3].imshow(largest_label * input_img.well_props.mask.cropped_masked, 'binary')\n",
    "\n",
    "for cont in contour:\n",
    "    ax[1].plot(cont[:, 1], cont[:, 0], linewidth=2, color='red')"
   ],
   "metadata": {
    "collapsed": false,
    "pycharm": {
     "name": "#%%\n"
    }
   }
  },
  {
   "cell_type": "markdown",
   "source": [
    "_____________________________________________________"
   ],
   "metadata": {
    "collapsed": false,
    "pycharm": {
     "name": "#%% md\n"
    }
   }
  },
  {
   "cell_type": "markdown",
   "source": [
    "# Convex hull & covex hull refinement"
   ],
   "metadata": {
    "collapsed": false,
    "pycharm": {
     "name": "#%% md\n"
    }
   }
  },
  {
   "cell_type": "code",
   "execution_count": null,
   "outputs": [],
   "source": [
    "fig, ax = plt.subplots(nrows=2, ncols=2, figsize=(16, 16))\n",
    "ax = ax.ravel()\n",
    "\n",
    "klo = keep_largest_object(res)  #(filled_masked)\n",
    "fish_mask = convex_hull_image(klo).astype(bool)\n",
    "\n",
    "input_img.fish_props.mask.og = fish_mask\n",
    "\n",
    "for i in range(6):\n",
    "    if is_fish(input_img.fish_props.mask.og):\n",
    "        break\n",
    "    input_img = refine_oversized_hull(input_img, step=i + 1)\n",
    "\n",
    "dilated_mask = binary_dilation(input_img.fish_props.mask.og, disk(10))\n",
    "input_img.fish_props.mask.masked = dilated_mask * input_img.well_props.mask.cropped_masked\n",
    "dilated_masked = input_img.fish_props.mask.masked\n",
    "\n",
    "ax[0].imshow(klo, 'binary')\n",
    "ax[1].imshow(fish_mask, 'binary')\n",
    "ax[2].imshow(input_img.fish_props.mask.og, 'binary')\n",
    "ax[3].imshow(dilated_masked, 'binary')"
   ],
   "metadata": {
    "collapsed": false,
    "pycharm": {
     "name": "#%%\n"
    }
   }
  },
  {
   "cell_type": "markdown",
   "source": [
    "# Refine fish mask"
   ],
   "metadata": {
    "collapsed": false,
    "pycharm": {
     "name": "#%% md\n"
    }
   }
  },
  {
   "cell_type": "code",
   "execution_count": null,
   "outputs": [],
   "source": [
    "fig, ax = plt.subplots(nrows=2, ncols=2, figsize=(16, 16))\n",
    "ax = ax.ravel()\n",
    "\n",
    "um = unsharp_mask(rescale_intensity(dilated_masked), amount=20, radius=4)\n",
    "\n",
    "eroded_mask = binary_erosion(dilated_mask, disk(8))\n",
    "\n",
    "refined = remove_small_objects(yen_th(um))\n",
    "refined = ~refined * eroded_mask\n",
    "\n",
    "ax[0].imshow(dilated_masked, 'binary')\n",
    "ax[1].imshow(um, 'binary')\n",
    "ax[2].imshow(eroded_mask, 'binary')\n",
    "ax[3].imshow(binary_fill_holes(refined) * dilated_mask, 'binary')"
   ],
   "metadata": {
    "collapsed": false,
    "pycharm": {
     "name": "#%%\n"
    }
   }
  },
  {
   "cell_type": "markdown",
   "source": [],
   "metadata": {
    "collapsed": false,
    "pycharm": {
     "name": "#%% md\n"
    }
   }
  },
  {
   "cell_type": "markdown",
   "source": [
    "# Filling & eliminating small objects"
   ],
   "metadata": {
    "collapsed": false,
    "pycharm": {
     "name": "#%% md\n"
    }
   }
  },
  {
   "cell_type": "code",
   "execution_count": null,
   "outputs": [],
   "source": [
    "fig, ax = plt.subplots(nrows=2, ncols=2, figsize=(16, 16))\n",
    "ax = ax.ravel()\n",
    "\n",
    "labeled = label(binary_fill_holes(binary_dilation(refined, disk(2))))\n",
    "keeps = keep_largest_object(labeled)\n",
    "props = regionprops_table(labeled, properties=('label', 'area', 'image_filled'))\n",
    "\n",
    "opened = binary_opening(binary_fill_holes(keeps), disk(5))\n",
    "closed = binary_fill_holes(binary_closing(remove_small_objects(opened.astype(bool)), disk(3)))\n",
    "refined_ = binary_fill_holes(closed)\n",
    "\n",
    "refined__ = refined_ * input_img.well_props.mask.cropped_masked\n",
    "\n",
    "ax[0].imshow(label2rgb(labeled), 'binary')\n",
    "ax[1].imshow(opened, 'binary')\n",
    "ax[2].imshow(closed, 'binary')\n",
    "ax[3].imshow(refined__, 'binary')"
   ],
   "metadata": {
    "collapsed": false,
    "pycharm": {
     "name": "#%%\n"
    }
   }
  },
  {
   "cell_type": "markdown",
   "source": [
    "# Drawing contours of the fish mask"
   ],
   "metadata": {
    "collapsed": false,
    "pycharm": {
     "name": "#%% md\n"
    }
   }
  },
  {
   "cell_type": "code",
   "execution_count": null,
   "outputs": [],
   "source": [
    "#labeled = label(input_img.fish_props.mask.og * binary_closing(fishy, disk(5)))\n",
    "labeled = label(refined__.astype(bool))\n",
    "props = regionprops_table(labeled, properties=('label', 'bbox', 'area'))\n",
    "\n",
    "fig, ax = plt.subplots(nrows=2, ncols=2, figsize=(16, 16))\n",
    "ax = ax.ravel()\n",
    "\n",
    "largest_label = keep_largest_object(labeled)\n",
    "hull = convex_hull_image(keep_largest_object(labeled))\n",
    "hull = binary_dilation(hull, disk(5))\n",
    "\n",
    "contour = find_contours(largest_label)\n",
    "\n",
    "ax[0].imshow(label2rgb(labeled))\n",
    "ax[1].imshow(input_img.well_props.mask.cropped_masked, 'binary')\n",
    "ax[2].imshow(hull, 'binary')\n",
    "ax[3].imshow(largest_label * input_img.well_props.mask.cropped_masked, 'binary')\n",
    "\n",
    "for cont in contour:\n",
    "    ax[1].plot(cont[:, 1], cont[:, 0], linewidth=2, color='red')"
   ],
   "metadata": {
    "collapsed": false,
    "pycharm": {
     "name": "#%%\n"
    }
   }
  }
 ],
 "metadata": {
  "kernelspec": {
   "display_name": "Python 3",
   "language": "python",
   "name": "python3"
  },
  "language_info": {
   "codemirror_mode": {
    "name": "ipython",
    "version": 2
   },
   "file_extension": ".py",
   "mimetype": "text/x-python",
   "name": "python",
   "nbconvert_exporter": "python",
   "pygments_lexer": "ipython2",
   "version": "2.7.6"
  }
 },
 "nbformat": 4,
 "nbformat_minor": 0
}