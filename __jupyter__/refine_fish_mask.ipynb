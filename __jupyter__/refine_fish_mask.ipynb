{
 "cells": [
  {
   "cell_type": "code",
   "execution_count": null,
   "outputs": [],
   "source": [
    "import numpy as np\n",
    "import matplotlib.pyplot as plt\n",
    "import scipy\n",
    "import cv2\n",
    "import skimage\n",
    "\n",
    "from src.models import InputImage\n",
    "from src.filters import yen_th, sobel\n",
    "from skimage.morphology import disk, binary_closing, binary_opening, convex_hull_image"
   ],
   "metadata": {
    "collapsed": false,
    "pycharm": {
     "name": "#%%\n"
    }
   }
  },
  {
   "cell_type": "markdown",
   "source": [
    "#"
   ],
   "metadata": {
    "collapsed": false,
    "pycharm": {
     "name": "#%% md\n"
    }
   }
  },
  {
   "cell_type": "code",
   "execution_count": null,
   "outputs": [],
   "source": [
    "from src.fish.find_fish_props import find_fish_props\n",
    "from src.well.find_well_props import find_well_props\n",
    "\n",
    "fishy = InputImage(\"zf3.jpg\")\n",
    "fishy = find_well_props(fishy)\n",
    "fishy = find_fish_props(fishy)\n",
    "\n",
    "fig, ax = plt.subplots(nrows=1, ncols=3, figsize=(10, 8))\n",
    "ax = ax.ravel()\n",
    "\n",
    "ax[0].imshow(fishy.og, \"binary\")\n",
    "ax[0].set_title('OG')\n",
    "ax[1].imshow(fishy.well_props.mask.cropped_masked, \"binary\")\n",
    "ax[1].set_title('well_props.mask.cropped_masked')\n",
    "ax[2].imshow(fishy.fish_props.mask.masked, \"binary\")\n",
    "ax[2].set_title('fish_props.mask.masked')\n"
   ],
   "metadata": {
    "collapsed": false,
    "pycharm": {
     "name": "#%%\n"
    }
   }
  },
  {
   "cell_type": "code",
   "execution_count": null,
   "outputs": [],
   "source": [
    "from skimage.measure import label\n",
    "from skimage.feature import canny\n",
    "from skimage.exposure import equalize_hist\n",
    "from skimage.morphology import binary_dilation, closing, opening\n",
    "from scipy import ndimage\n",
    "from src.utils import keep_largest_object\n",
    "from skimage.filters.ridges import frangi, meijering\n",
    "from skimage.filters._unsharp_mask import unsharp_mask\n",
    "\n",
    "fig, ax = plt.subplots(nrows=4, ncols=1, figsize=(16, 20))\n",
    "ax= ax.ravel()\n",
    "\n",
    "masked = fishy.fish_props.mask.masked\n",
    "\n",
    "um = unsharp_mask(masked, amount=30, radius=2)\n",
    "meij = meijering(masked) * fishy.fish_props.mask.og\n",
    "\n",
    "\n",
    "well_masked = fishy.well_props.mask.cropped_masked\n",
    "\n",
    "ax[0].imshow(um, 'binary')\n",
    "ax[1].imshow(yen_th(equalize_hist(meij)), 'binary')\n",
    "ax[2].imshow(canny(yen_th(meij)), 'binary')\n",
    "ax[3].imshow(keep_largest_object((yen_th(meij))), 'binary')"
   ],
   "metadata": {
    "collapsed": false,
    "pycharm": {
     "name": "#%%\n"
    }
   }
  }
 ],
 "metadata": {
  "kernelspec": {
   "display_name": "Python 3",
   "language": "python",
   "name": "python3"
  },
  "language_info": {
   "codemirror_mode": {
    "name": "ipython",
    "version": 2
   },
   "file_extension": ".py",
   "mimetype": "text/x-python",
   "name": "python",
   "nbconvert_exporter": "python",
   "pygments_lexer": "ipython2",
   "version": "2.7.6"
  }
 },
 "nbformat": 4,
 "nbformat_minor": 0
}