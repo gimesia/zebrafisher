{
 "cells": [
  {
   "cell_type": "code",
   "execution_count": 1,
   "outputs": [],
   "source": [
    "import os\n",
    "\n",
    "from matplotlib import pyplot as plt\n",
    "from skimage.morphology import binary_dilation\n",
    "\n",
    "from src.fish import find_fish_props\n",
    "from src.models import InputImage\n",
    "from src.utils import normalize_0_255\n",
    "from src.well import find_well_props"
   ],
   "metadata": {
    "collapsed": false
   }
  },
  {
   "cell_type": "code",
   "execution_count": 2,
   "outputs": [],
   "source": [
    "def plot_images(images, cols: int = None, count: int = None, fig: (int, int) = (16, 16), ticks=False, cmap='binary',\n",
    "                title=None, hist=False, nums=False):\n",
    "    if count is not None:\n",
    "        images = images[0:count]\n",
    "\n",
    "    l = len(images)\n",
    "\n",
    "    if l == 0:\n",
    "        return\n",
    "\n",
    "    if cols is None:\n",
    "        cols = 4\n",
    "\n",
    "    rows = int(l / cols)\n",
    "    if cols > l > 1: cols = l\n",
    "    if l % cols != 0 or rows == 0:\n",
    "        rows += 1\n",
    "\n",
    "    fig, ax = plt.subplots(rows, cols, figsize=fig)\n",
    "    ax = ax.ravel()\n",
    "\n",
    "    for i, img in enumerate(images):\n",
    "        if i >= l: return\n",
    "\n",
    "        if nums: ax[i].set_title(f'#{i}')\n",
    "\n",
    "        if not hist:\n",
    "            ax[i].imshow(img, cmap)\n",
    "            if not ticks:  # turn off ticks\n",
    "                ax[i].get_xaxis().set_visible(False)\n",
    "                ax[i].get_yaxis().set_visible(False)\n",
    "        else:\n",
    "            ax[i].hist(img.ravel(), bins=256)\n",
    "    fig.suptitle(title, fontsize=56)\n",
    "    plt.tight_layout()\n",
    "\n",
    "\n",
    "def plot_fishes(fishes, cols: int = None, count: int = None, fig: (int, int) = (16, 16), ticks=False, cmap='binary',\n",
    "                title=None, nums=False):\n",
    "    images = list(map(lambda x: x.processed, fishes))  # Change this!\n",
    "    plot_images(images, cols, count, fig, ticks, cmap, title, nums)"
   ],
   "metadata": {
    "collapsed": false
   }
  },
  {
   "cell_type": "code",
   "execution_count": 3,
   "outputs": [
    {
     "name": "stdout",
     "output_type": "stream",
     "text": [
      "_\n",
      "Reading in file from:\n",
      "C:\\Users\\gimes\\source\\repos\\zebra_fishy\\src\\images\\in\\_\n"
     ]
    },
    {
     "ename": "AttributeError",
     "evalue": "'InputImage' object has no attribute 'og'",
     "output_type": "error",
     "traceback": [
      "\u001B[1;31m---------------------------------------------------------------------------\u001B[0m",
      "\u001B[1;31mAttributeError\u001B[0m                            Traceback (most recent call last)",
      "Input \u001B[1;32mIn [3]\u001B[0m, in \u001B[0;36m<module>\u001B[1;34m\u001B[0m\n\u001B[0;32m      8\u001B[0m \u001B[38;5;28;01mfor\u001B[39;00m name \u001B[38;5;129;01min\u001B[39;00m fish_names[::]:\n\u001B[0;32m      9\u001B[0m     \u001B[38;5;28mprint\u001B[39m(name)\n\u001B[1;32m---> 10\u001B[0m     fishes\u001B[38;5;241m.\u001B[39mappend(\u001B[43mInputImage\u001B[49m\u001B[43m(\u001B[49m\u001B[43mname\u001B[49m\u001B[43m)\u001B[49m)\n\u001B[0;32m     11\u001B[0m \u001B[38;5;28;01mfor\u001B[39;00m i, fish \u001B[38;5;129;01min\u001B[39;00m \u001B[38;5;28menumerate\u001B[39m(fishes):\n\u001B[0;32m     12\u001B[0m     \u001B[38;5;28mprint\u001B[39m(\u001B[38;5;124mf\u001B[39m\u001B[38;5;124m'\u001B[39m\u001B[38;5;124mFish #\u001B[39m\u001B[38;5;132;01m{\u001B[39;00mi\u001B[38;5;132;01m}\u001B[39;00m\u001B[38;5;124m'\u001B[39m)\n",
      "File \u001B[1;32m~\\source\\repos\\zebra_fishy\\src\\models\\InputImage.py:50\u001B[0m, in \u001B[0;36mInputImage.__init__\u001B[1;34m(self, filename)\u001B[0m\n\u001B[0;32m     47\u001B[0m \u001B[38;5;28mself\u001B[39m\u001B[38;5;241m.\u001B[39msuccess: \u001B[38;5;28mbool\u001B[39m \u001B[38;5;241m=\u001B[39m \u001B[38;5;28;01mFalse\u001B[39;00m\n\u001B[0;32m     49\u001B[0m \u001B[38;5;28;01mtry\u001B[39;00m:\n\u001B[1;32m---> 50\u001B[0m     \u001B[38;5;28mself\u001B[39m\u001B[38;5;241m.\u001B[39mheight \u001B[38;5;241m=\u001B[39m \u001B[38;5;28;43mself\u001B[39;49m\u001B[38;5;241;43m.\u001B[39;49m\u001B[43mog\u001B[49m\u001B[38;5;241m.\u001B[39mshape[\u001B[38;5;241m0\u001B[39m]\n\u001B[0;32m     51\u001B[0m     \u001B[38;5;28mself\u001B[39m\u001B[38;5;241m.\u001B[39mwidth \u001B[38;5;241m=\u001B[39m \u001B[38;5;28mself\u001B[39m\u001B[38;5;241m.\u001B[39mog\u001B[38;5;241m.\u001B[39mshape[\u001B[38;5;241m1\u001B[39m]\n\u001B[0;32m     52\u001B[0m \u001B[38;5;28;01mexcept\u001B[39;00m():\n",
      "\u001B[1;31mAttributeError\u001B[0m: 'InputImage' object has no attribute 'og'"
     ]
    }
   ],
   "source": [
    "os.chdir('C:\\\\Users\\\\gimes\\\\source\\\\repos\\\\zebra_fishy\\\\src\\\\images\\\\in')\n",
    "fish_names = os.listdir()\n",
    "os.chdir('C:\\\\Users\\\\gimes\\\\source\\\\repos\\\\zebra_fishy\\\\src')\n",
    "\n",
    "fishes = []\n",
    "successful_fishes = []\n",
    "bad_names = []\n",
    "for name in fish_names[::]:\n",
    "    print(name)\n",
    "    fishes.append(InputImage(name))\n",
    "for i, fish in enumerate(fishes):\n",
    "    print(f'Fish #{i}')\n",
    "    fish.processed = normalize_0_255(fish.processed)\n",
    "    fish = find_well_props(fish)\n",
    "    fish = find_fish_props(fish)\n",
    "    if fish.fish_props.has_fish and fish.fish_props.has_fish:\n",
    "        successful_fishes.append(fish)\n",
    "    else:\n",
    "        bad_names.append(fish)"
   ],
   "metadata": {
    "collapsed": false
   }
  },
  {
   "cell_type": "code",
   "execution_count": null,
   "outputs": [],
   "source": [
    "plot_images(list(map(lambda x: (x.fish_props.mask.cropped), fishes)), nums=True)"
   ],
   "metadata": {
    "collapsed": false
   }
  },
  {
   "cell_type": "code",
   "execution_count": null,
   "outputs": [],
   "source": [
    "masks = []\n",
    "\n",
    "for i, fish in enumerate(successful_fishes):\n",
    "    print(f'#{i}')\n",
    "    if fish.fish_props.has_fish: masks.append(fish.fish_props.mask.cropped)\n",
    "plot_images(masks, nums=True, title=\"Masks\")"
   ],
   "metadata": {
    "collapsed": false
   }
  },
  {
   "cell_type": "code",
   "execution_count": null,
   "outputs": [],
   "source": [
    "eyes = []\n",
    "\n",
    "from src.utils import show_img\n",
    "\n",
    "for i, fish in enumerate(successful_fishes):\n",
    "    print(f'#{i}')\n",
    "    eyes.append(fish.fish_props.eyes)\n",
    "\n",
    "plot_images(eyes, nums=True)"
   ],
   "metadata": {
    "collapsed": false
   }
  },
  {
   "cell_type": "code",
   "execution_count": null,
   "outputs": [],
   "source": [
    "from skimage.morphology import disk, binary_closing\n",
    "\n",
    "eyes_on_body = []\n",
    "\n",
    "for i, fish in enumerate(successful_fishes[::]):\n",
    "    print(f\"#{i}\")\n",
    "    if fish.fish_props.has_eyes:\n",
    "        eyes_on_body.append((fish.fish_props.mask.cropped.astype(float) + fish.fish_props.eyes.astype(float)))\n",
    "plot_images(eyes_on_body, nums=True)"
   ],
   "metadata": {
    "collapsed": false
   }
  },
  {
   "cell_type": "code",
   "execution_count": null,
   "outputs": [],
   "source": [
    "from skimage.measure import regionprops\n",
    "from skimage.measure import label\n",
    "\n",
    "orientations = []\n",
    "centroids = []\n",
    "\n",
    "for i, t in enumerate(masks):\n",
    "    print(f'#{i}')\n",
    "    o = regionprops(label(masks[i]))[0].orientation\n",
    "    c = regionprops(label(masks[i]))[0].centroid\n",
    "    orientations.append(o)\n",
    "    centroids.append(c)\n",
    "    print(f'orientation: {o}')\n",
    "    print(f'centroids: {c}')"
   ],
   "metadata": {
    "collapsed": false
   }
  },
  {
   "cell_type": "code",
   "execution_count": null,
   "outputs": [],
   "source": [
    "from src.utils import get_bounding_box_obj\n",
    "import numpy as np\n",
    "from skimage.transform import rotate\n",
    "\n",
    "rotateds = []\n",
    "rotated_back = []\n",
    "\n",
    "\n",
    "def align_to_x_axis(img: np.ndarray, orientation: float, center=(0, 0)):\n",
    "    angle_in_degrees = orientation * (180 / np.pi) + 90\n",
    "    return rotate(img, -angle_in_degrees, resize=True, center=center)\n",
    "\n",
    "\n",
    "def rotate_back(img: np.ndarray, desired_orientation: float, center=(0, 0)):\n",
    "    angle_in_degrees = desired_orientation * (180 / np.pi) + 90\n",
    "    return rotate(img, angle_in_degrees, resize=True, center=center)\n",
    "\n",
    "\n",
    "for i, a in enumerate(masks):\n",
    "    print(f'#{i}')\n",
    "    \"\"\"    orientation = ori[i]\n",
    "    angle_in_degrees = orientation * (180 / np.pi) + 90\n",
    "    rot.append(binary_closing(rotate(a, -angle_in_degrees, resize=True), disk(15)))\"\"\"\n",
    "    print(a.dtype)\n",
    "    print(a.shape)\n",
    "    rotated = (align_to_x_axis(a, orientations[i]))\n",
    "    bbox = get_bounding_box_obj(rotated)\n",
    "    rotated = bbox.bound_img(rotated)\n",
    "    rotateds.append(rotated)\n",
    "\n",
    "for i, a in enumerate(masks):\n",
    "    back = rotate_back(rotateds[i], orientations[i])\n",
    "    bbox = get_bounding_box_obj(back)\n",
    "    back = bbox.bound_img(back)\n",
    "    rotated_back.append(back)"
   ],
   "metadata": {
    "collapsed": false
   }
  },
  {
   "cell_type": "code",
   "execution_count": null,
   "outputs": [],
   "source": [
    "plot_images(rotateds, nums=True)"
   ],
   "metadata": {
    "collapsed": false
   }
  },
  {
   "cell_type": "code",
   "execution_count": null,
   "outputs": [],
   "source": [
    "plot_images(rotated_back, nums=True)"
   ],
   "metadata": {
    "collapsed": false
   }
  },
  {
   "cell_type": "code",
   "execution_count": null,
   "outputs": [],
   "source": [
    "plot_images(eyes_on_body, nums=True)"
   ],
   "metadata": {
    "collapsed": false
   }
  },
  {
   "cell_type": "code",
   "execution_count": null,
   "outputs": [],
   "source": [
    "from skimage.color import gray2rgb\n",
    "\n",
    "\n",
    "def limits_marked(img: np.ndarray) -> np.ndarray:\n",
    "    img = img.astype(float)\n",
    "    img = gray2rgb(img)\n",
    "\n",
    "    left_max, right_max, top_max, bottom_max = get_limits_of_object(img)\n",
    "\n",
    "    cv2.circle(img, right_max, 1, (255, 255, 255), 10)\n",
    "    cv2.circle(img, left_max, 1, (255, 255, 255), 10)\n",
    "    img = rgb2gray(img)\n",
    "\n",
    "    return img"
   ],
   "metadata": {
    "collapsed": false
   }
  },
  {
   "cell_type": "code",
   "execution_count": null,
   "outputs": [],
   "source": [
    "from skimage.color import rgb2gray\n",
    "import cv2\n",
    "from skimage.morphology import skeletonize\n",
    "\n",
    "re = []\n",
    "re_ = []\n",
    "for i, r in enumerate(rotateds):\n",
    "    #re.append((limits_marked(r)))\n",
    "    rb = rotate_back((limits_marked(r)), orientations[i])\n",
    "    re_.append(rb)\n",
    "    re.append(binary_dilation(rb, disk(10)).astype(float) + masks[i].astype(float) )\n",
    "    #re_.append(np.logical_xor((skeletonize(r, method='lee')), (rotateds[i])))\n",
    "plot_images(re, nums=True)\n",
    "plot_images(re_)"
   ],
   "metadata": {
    "collapsed": false
   }
  },
  {
   "cell_type": "code",
   "execution_count": null,
   "outputs": [],
   "source": [
    "def joints(skeleton):\n",
    "    xx, yy = skeleton.nonzero()\n",
    "    n = len(xx)\n",
    "\n",
    "    dist_mat = ((xx[:, None] - xx[None, :]) ** 2 + (yy[:, None] - yy[None, :]) ** 2)\n",
    "    adj_mat = (dist_mat <= 2).astype(int)\n",
    "    # joints will have more than 2 neighbors and endpoints\n",
    "    # will have only one.\n",
    "    ends = np.where(adj_mat.sum(1) == 1)[0]\n",
    "    intersections = np.where(adj_mat.sum(1) > 2)[0]\n",
    "    return intersections\n",
    "\n",
    "\n"
   ],
   "metadata": {
    "collapsed": false
   }
  },
  {
   "cell_type": "code",
   "execution_count": null,
   "outputs": [],
   "source": [
    "def get_endpoints_of_skeleton(skeleton: np.ndarray) -> np.ndarray:\n",
    "    kernel = np.asarray([\n",
    "        [-1, -1, -1],\n",
    "        [-1, 2, -1],\n",
    "        [-1, -1, -1]\n",
    "    ])\n",
    "    skeleton = normalize_0_255(skeleton.astype(float)).astype(np.uint8)\n",
    "    return cv2.filter2D(skeleton, -1, kernel).astype(bool)\n"
   ],
   "metadata": {
    "collapsed": false
   }
  },
  {
   "cell_type": "code",
   "execution_count": null,
   "outputs": [],
   "source": [
    "fish = re_[19]\n",
    "print(fish.shape)\n",
    "\n",
    "kernel = np.asarray([\n",
    "    [-1, -1, -1],\n",
    "    [-1, 2, -1],\n",
    "    [-1, -1, -1]\n",
    "])\n",
    "\n",
    "fish = normalize_0_255(fish.astype(float)).astype(np.uint8)\n",
    "filtered = cv2.filter2D(fish, -1, kernel).astype(bool)\n",
    "plt.imshow(binary_dilation(filtered, disk(1)), 'binary')\n",
    "\n",
    "print(filtered.nonzero())"
   ],
   "metadata": {
    "collapsed": false
   }
  },
  {
   "cell_type": "code",
   "execution_count": null,
   "outputs": [],
   "source": [
    "fish = successful_fishes[1]\n",
    "props = regionprops(label(fish.fish_props.mask.cropped))\n",
    "\n",
    "plt.imshow(fish.fish_props.mask.cropped, 'gray')\n",
    "plt.xticks([])\n",
    "plt.yticks([])"
   ],
   "metadata": {
    "collapsed": false
   }
  },
  {
   "cell_type": "code",
   "execution_count": null,
   "outputs": [],
   "source": [
    "from src.measure import get_limits_of_object\n",
    "\n",
    "\n",
    "def get_eps(img: np.ndarray):\n",
    "    og_shape = img.shape\n",
    "    bbox = get_bounding_box_obj(img)  # bbox to og image\n",
    "    cropped_img = bbox.bound_img(img)  # crop to bbox\n",
    "\n",
    "    props = regionprops(label(img))\n",
    "\n",
    "    rotated = align_to_x_axis(cropped_img, props[0].orientation, props[0].centroid)\n",
    "    bbox_rot = get_bounding_box_obj(rotated)  # bbox to og image\n",
    "    rotated = bbox_rot.bound_img(rotated)\n",
    "    eps = get_limits_of_object(rotated)\n",
    "    np.zeros_like\n",
    "\n",
    "    rotated_back = rotate_back(eps, props[0].orientation, props[0].centroid)\n",
    "    bbox_rot = get_bounding_box_obj(rotated_back)  # bbox to og image\n",
    "    rotated_back = bbox_rot.bound_img(rotated_back)\n",
    "\n",
    "    print(rotated.dtype)\n",
    "    return [cropped_img, rotated, eps, rotated_back]\n"
   ],
   "metadata": {
    "collapsed": false
   }
  },
  {
   "cell_type": "code",
   "execution_count": null,
   "outputs": [],
   "source": [
    "plot_images(get_eps(fish.fish_props.mask.cropped))"
   ],
   "metadata": {
    "collapsed": false
   }
  },
  {
   "cell_type": "code",
   "execution_count": null,
   "outputs": [],
   "source": [],
   "metadata": {
    "collapsed": false
   }
  }
 ],
 "metadata": {
  "kernelspec": {
   "display_name": "Python 3",
   "language": "python",
   "name": "python3"
  },
  "language_info": {
   "codemirror_mode": {
    "name": "ipython",
    "version": 2
   },
   "file_extension": ".py",
   "mimetype": "text/x-python",
   "name": "python",
   "nbconvert_exporter": "python",
   "pygments_lexer": "ipython2",
   "version": "2.7.6"
  }
 },
 "nbformat": 4,
 "nbformat_minor": 0
}
