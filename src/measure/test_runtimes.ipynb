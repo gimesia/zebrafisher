{
 "cells": [
  {
   "cell_type": "code",
   "execution_count": 2,
   "metadata": {
    "collapsed": true
   },
   "outputs": [],
   "source": [
    "import os\n",
    "import numpy as np\n",
    "\n",
    "import pandas as pd"
   ]
  },
  {
   "cell_type": "code",
   "execution_count": 3,
   "outputs": [
    {
     "name": "stdout",
     "output_type": "stream",
     "text": [
      "C:\\Users\\gimes\\source\\repos\\zebra_fishy\\src\\images\n"
     ]
    }
   ],
   "source": [
    "path = os.path.join(os.path.abspath(\"..\"), \"images\")\n",
    "os.chdir(path)"
   ],
   "metadata": {
    "collapsed": false
   }
  },
  {
   "cell_type": "markdown",
   "source": [
    "# Reading in csv files"
   ],
   "metadata": {
    "collapsed": false
   }
  },
  {
   "cell_type": "code",
   "execution_count": 4,
   "outputs": [],
   "source": [
    "df = pd.read_csv(\"results.csv\")\n",
    "df_t = pd.read_csv(\"result_times.csv\")"
   ],
   "metadata": {
    "collapsed": false
   }
  },
  {
   "cell_type": "markdown",
   "source": [
    "# Parsing times"
   ],
   "metadata": {
    "collapsed": false
   }
  },
  {
   "cell_type": "code",
   "execution_count": 5,
   "outputs": [],
   "source": [
    "from pandas import Series\n",
    "from datetime import datetime\n",
    "\n",
    "\n",
    "def extract_seconds_float(row: Series, col=str):\n",
    "    try:\n",
    "        ms = datetime.strptime(row[col], \"%H:%M:%S.%f\").microsecond\n",
    "        s = datetime.strptime(row[col], \"%H:%M:%S.%f\").second\n",
    "        return float(s) + ms * 0.000001\n",
    "    except:\n",
    "        return 0.0\n",
    "\n",
    "\n",
    "df_t[\"Well\"] = df_t.apply(lambda row: extract_seconds_float(row, \"Well\"), axis=1)\n",
    "df_t[\"Fish\"] = df_t.apply(lambda row: extract_seconds_float(row, \"Fish\"), axis=1)\n",
    "df_t[\"Measure\"] = df_t.apply(lambda row: extract_seconds_float(row, \"Measure\"), axis=1)\n",
    "df_t[\"start2end\"] = df_t.apply(lambda row: extract_seconds_float(row, \"start2end\"), axis=1)\n"
   ],
   "metadata": {
    "collapsed": false
   }
  },
  {
   "cell_type": "code",
   "execution_count": 6,
   "outputs": [],
   "source": [
    "df_t[\"Lyuk\"] = df_t.apply(lambda row: row[\"Well\"], axis=1)\n",
    "df_t[\"Hal\"] = df_t.apply(lambda row: row.Fish, axis=1)\n",
    "df_t[\"Mérés\"] = df_t.apply(lambda row: row.Measure, axis=1)\n",
    "df_t[\"Teljes\"] = df_t.apply(lambda row: row.start2end, axis=1)"
   ],
   "metadata": {
    "collapsed": false
   }
  },
  {
   "cell_type": "markdown",
   "source": [
    "# Average and standard dev\n",
    "## Well"
   ],
   "metadata": {
    "collapsed": false
   }
  },
  {
   "cell_type": "code",
   "execution_count": 7,
   "outputs": [
    {
     "name": "stdout",
     "output_type": "stream",
     "text": [
      "1.7350109513381997\n",
      "0.5915052239331469\n"
     ]
    }
   ],
   "source": [
    "avg_w, std_w = np.mean(df_t[\"Well\"]), np.std(df_t[\"Well\"])\n",
    "\n",
    "print(avg_w)\n",
    "print(std_w)"
   ],
   "metadata": {
    "collapsed": false
   }
  },
  {
   "cell_type": "markdown",
   "source": [
    "## Fish"
   ],
   "metadata": {
    "collapsed": false
   }
  },
  {
   "cell_type": "code",
   "execution_count": 8,
   "outputs": [
    {
     "name": "stdout",
     "output_type": "stream",
     "text": [
      "4.932065406326035\n",
      "1.1061756849256799\n"
     ]
    }
   ],
   "source": [
    "avg_f, std_f = np.mean(df_t[\"Fish\"]), np.std(df_t[\"Fish\"])\n",
    "\n",
    "print(avg_f)\n",
    "print(std_f)"
   ],
   "metadata": {
    "collapsed": false
   }
  },
  {
   "cell_type": "markdown",
   "source": [
    "## Measure"
   ],
   "metadata": {
    "collapsed": false
   }
  },
  {
   "cell_type": "code",
   "execution_count": 9,
   "outputs": [
    {
     "name": "stdout",
     "output_type": "stream",
     "text": [
      "0.028598126520681263\n",
      "0.01512598603774851\n"
     ]
    }
   ],
   "source": [
    "avg_m, std_m = np.mean(df_t[\"Measure\"]), np.std(df_t[\"Measure\"])\n",
    "\n",
    "print(avg_m)\n",
    "print(std_m)"
   ],
   "metadata": {
    "collapsed": false
   }
  },
  {
   "cell_type": "markdown",
   "source": [
    "## Whole process"
   ],
   "metadata": {
    "collapsed": false
   }
  },
  {
   "cell_type": "code",
   "execution_count": 10,
   "outputs": [
    {
     "name": "stdout",
     "output_type": "stream",
     "text": [
      "6.700862822384428\n",
      "1.3071132606092943\n"
     ]
    }
   ],
   "source": [
    "avg_a, std_a = np.mean(df_t[\"start2end\"]), np.std(df_t[\"start2end\"])\n",
    "\n",
    "print(avg_a)\n",
    "print(std_a)"
   ],
   "metadata": {
    "collapsed": false
   }
  },
  {
   "cell_type": "markdown",
   "source": [
    "# Pie-chart"
   ],
   "metadata": {
    "collapsed": false
   }
  },
  {
   "cell_type": "code",
   "execution_count": 22,
   "outputs": [
    {
     "data": {
      "text/plain": "<Figure size 720x504 with 1 Axes>",
      "image/png": "[encoded data removed]"
     },
     "metadata": {},
     "output_type": "display_data"
    }
   ],
   "source": [
    "from matplotlib import pyplot as plt\n",
    "\n",
    "headers = ['Lyuk', 'Hal', 'Mérés']\n",
    "headers = ['Well', 'Fish', 'Measure']\n",
    "\n",
    "avg_data = [avg_w / avg_a, avg_f / avg_a, avg_m / avg_a]\n",
    "\n",
    "\n",
    "def func(pct, allvalues):\n",
    "    absolute = int(pct / 100. * np.sum(allvalues))\n",
    "    return \"{:.1f}%\".format(pct, absolute)\n",
    "\n",
    "\n",
    "# Creating plot\n",
    "fig = plt.figure(figsize=(10, 7), )\n",
    "wedges, texts, autotexts = plt.pie(avg_data, labels=headers,explode = [0.05,0.05,0.05],\n",
    "                                   autopct=lambda pct: f'{np.round(pct * 0.01 * avg_a, 2)} sec')  #func(pct, data))\n",
    "# show plot\n",
    "plt.show()"
   ],
   "metadata": {
    "collapsed": false
   }
  },
  {
   "cell_type": "markdown",
   "source": [
    "# Boxchart diagram of runtimes"
   ],
   "metadata": {
    "collapsed": false
   }
  },
  {
   "cell_type": "code",
   "execution_count": 12,
   "outputs": [
    {
     "name": "stdout",
     "output_type": "stream",
     "text": [
      "Index(['Batch', 'Name', 'Well', 'Fish', 'Measure', 'start2end', 'Lyuk', 'Hal',\n",
      "       'Mérés', 'Teljes'],\n",
      "      dtype='object')\n"
     ]
    },
    {
     "data": {
      "text/plain": "<Figure size 720x504 with 1 Axes>",
      "image/png": "[encoded data removed]"
     },
     "metadata": {
      "needs_background": "light"
     },
     "output_type": "display_data"
    }
   ],
   "source": [
    "df_T = df_t.copy()\n",
    "df_T.drop([\"Batch\", \"Name\", 'Well', 'Fish', 'Measure', 'start2end'], axis=1)\n",
    "print(df_T.columns)\n",
    "boxplot = df_T.boxplot(\n",
    "    figsize=(10, 7),\n",
    "    column=['Well', 'Fish', 'Measure', 'Teljes'],\n",
    "    showfliers=False,\n",
    "    grid=False,\n",
    "    fontsize=14\n",
    ")"
   ],
   "metadata": {
    "collapsed": false
   }
  },
  {
   "cell_type": "code",
   "execution_count": 13,
   "outputs": [],
   "source": [
    "labels = ['Well', 'Fish', 'Measure', 'start2end'],\n",
    "df_avg = pd.DataFrame(\n",
    "    {'Well': [avg_w, std_w], 'Fish': [avg_f, std_f], 'Measure': [avg_m, std_m], 'start2end': [avg_a, std_a]})\n",
    "df_avg.to_csv(\"times.csv\")"
   ],
   "metadata": {
    "collapsed": false
   }
  },
  {
   "cell_type": "code",
   "execution_count": 14,
   "outputs": [
    {
     "name": "stdout",
     "output_type": "stream",
     "text": [
      "396 / 417\n"
     ]
    }
   ],
   "source": [
    "a = np.asarray(df[\"Has_Fish\"])\n",
    "good = len(a.nonzero()[0])\n",
    "all = len(a)\n",
    "print(f\"{good} / {all}\")"
   ],
   "metadata": {
    "collapsed": false
   }
  },
  {
   "cell_type": "code",
   "execution_count": 14,
   "outputs": [],
   "source": [],
   "metadata": {
    "collapsed": false
   }
  }
 ],
 "metadata": {
  "kernelspec": {
   "display_name": "Python 3",
   "language": "python",
   "name": "python3"
  },
  "language_info": {
   "codemirror_mode": {
    "name": "ipython",
    "version": 2
   },
   "file_extension": ".py",
   "mimetype": "text/x-python",
   "name": "python",
   "nbconvert_exporter": "python",
   "pygments_lexer": "ipython2",
   "version": "2.7.6"
  }
 },
 "nbformat": 4,
 "nbformat_minor": 0
}
